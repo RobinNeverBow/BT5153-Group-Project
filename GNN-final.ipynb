{
  "cells": [
    {
      "cell_type": "code",
      "execution_count": 37,
      "metadata": {
        "id": "22XUCBpkbPtI"
      },
      "outputs": [],
      "source": [
        "import pandas as pd\n",
        "import re\n",
        "import nltk\n",
        "from nltk.corpus import stopwords\n",
        "import numpy as np"
      ]
    },
    {
      "cell_type": "code",
      "execution_count": 38,
      "metadata": {
        "id": "9zU3DmkZbPtJ"
      },
      "outputs": [],
      "source": [
        "import os\n",
        "import pickle\n",
        "import pandas as pd\n",
        "from sklearn.feature_extraction.text import TfidfVectorizer\n",
        "import nltk\n",
        "import numpy as np\n",
        "import networkx as nx\n",
        "from collections import OrderedDict\n",
        "from itertools import combinations\n",
        "import math\n",
        "from tqdm import tqdm\n",
        "import logging"
      ]
    },
    {
      "cell_type": "code",
      "execution_count": 82,
      "metadata": {
        "id": "GhkV00Mv9AD7"
      },
      "outputs": [],
      "source": [
        "import os\n",
        "import networkx as nx\n",
        "import numpy as np\n",
        "import torch\n",
        "import torch.nn as nn\n",
        "import torch.optim as optim\n",
        "import matplotlib.pyplot as plt\n",
        "from argparse import ArgumentParser\n",
        "import logging\n",
        "import random\n",
        "import torch.nn.functional as F"
      ]
    },
    {
      "cell_type": "code",
      "execution_count": 39,
      "metadata": {
        "colab": {
          "base_uri": "https://localhost:8080/",
          "height": 206
        },
        "id": "1JufB1NMbPtK",
        "outputId": "518dfe69-b3bf-470b-a8a7-5d234e86225f"
      },
      "outputs": [
        {
          "data": {
            "text/html": [
              "\n",
              "  <div id=\"df-c4d9dba2-d920-45e9-a127-6f14941858e0\">\n",
              "    <div class=\"colab-df-container\">\n",
              "      <div>\n",
              "<style scoped>\n",
              "    .dataframe tbody tr th:only-of-type {\n",
              "        vertical-align: middle;\n",
              "    }\n",
              "\n",
              "    .dataframe tbody tr th {\n",
              "        vertical-align: top;\n",
              "    }\n",
              "\n",
              "    .dataframe thead th {\n",
              "        text-align: right;\n",
              "    }\n",
              "</style>\n",
              "<table border=\"1\" class=\"dataframe\">\n",
              "  <thead>\n",
              "    <tr style=\"text-align: right;\">\n",
              "      <th></th>\n",
              "      <th>id</th>\n",
              "      <th>keyword</th>\n",
              "      <th>location</th>\n",
              "      <th>text</th>\n",
              "      <th>target</th>\n",
              "    </tr>\n",
              "  </thead>\n",
              "  <tbody>\n",
              "    <tr>\n",
              "      <th>0</th>\n",
              "      <td>1</td>\n",
              "      <td>NaN</td>\n",
              "      <td>NaN</td>\n",
              "      <td>Our Deeds are the Reason of this #earthquake M...</td>\n",
              "      <td>1</td>\n",
              "    </tr>\n",
              "    <tr>\n",
              "      <th>1</th>\n",
              "      <td>4</td>\n",
              "      <td>NaN</td>\n",
              "      <td>NaN</td>\n",
              "      <td>Forest fire near La Ronge Sask. Canada</td>\n",
              "      <td>1</td>\n",
              "    </tr>\n",
              "    <tr>\n",
              "      <th>2</th>\n",
              "      <td>5</td>\n",
              "      <td>NaN</td>\n",
              "      <td>NaN</td>\n",
              "      <td>All residents asked to 'shelter in place' are ...</td>\n",
              "      <td>1</td>\n",
              "    </tr>\n",
              "    <tr>\n",
              "      <th>3</th>\n",
              "      <td>6</td>\n",
              "      <td>NaN</td>\n",
              "      <td>NaN</td>\n",
              "      <td>13,000 people receive #wildfires evacuation or...</td>\n",
              "      <td>1</td>\n",
              "    </tr>\n",
              "    <tr>\n",
              "      <th>4</th>\n",
              "      <td>7</td>\n",
              "      <td>NaN</td>\n",
              "      <td>NaN</td>\n",
              "      <td>Just got sent this photo from Ruby #Alaska as ...</td>\n",
              "      <td>1</td>\n",
              "    </tr>\n",
              "  </tbody>\n",
              "</table>\n",
              "</div>\n",
              "      <button class=\"colab-df-convert\" onclick=\"convertToInteractive('df-c4d9dba2-d920-45e9-a127-6f14941858e0')\"\n",
              "              title=\"Convert this dataframe to an interactive table.\"\n",
              "              style=\"display:none;\">\n",
              "        \n",
              "  <svg xmlns=\"http://www.w3.org/2000/svg\" height=\"24px\"viewBox=\"0 0 24 24\"\n",
              "       width=\"24px\">\n",
              "    <path d=\"M0 0h24v24H0V0z\" fill=\"none\"/>\n",
              "    <path d=\"M18.56 5.44l.94 2.06.94-2.06 2.06-.94-2.06-.94-.94-2.06-.94 2.06-2.06.94zm-11 1L8.5 8.5l.94-2.06 2.06-.94-2.06-.94L8.5 2.5l-.94 2.06-2.06.94zm10 10l.94 2.06.94-2.06 2.06-.94-2.06-.94-.94-2.06-.94 2.06-2.06.94z\"/><path d=\"M17.41 7.96l-1.37-1.37c-.4-.4-.92-.59-1.43-.59-.52 0-1.04.2-1.43.59L10.3 9.45l-7.72 7.72c-.78.78-.78 2.05 0 2.83L4 21.41c.39.39.9.59 1.41.59.51 0 1.02-.2 1.41-.59l7.78-7.78 2.81-2.81c.8-.78.8-2.07 0-2.86zM5.41 20L4 18.59l7.72-7.72 1.47 1.35L5.41 20z\"/>\n",
              "  </svg>\n",
              "      </button>\n",
              "      \n",
              "  <style>\n",
              "    .colab-df-container {\n",
              "      display:flex;\n",
              "      flex-wrap:wrap;\n",
              "      gap: 12px;\n",
              "    }\n",
              "\n",
              "    .colab-df-convert {\n",
              "      background-color: #E8F0FE;\n",
              "      border: none;\n",
              "      border-radius: 50%;\n",
              "      cursor: pointer;\n",
              "      display: none;\n",
              "      fill: #1967D2;\n",
              "      height: 32px;\n",
              "      padding: 0 0 0 0;\n",
              "      width: 32px;\n",
              "    }\n",
              "\n",
              "    .colab-df-convert:hover {\n",
              "      background-color: #E2EBFA;\n",
              "      box-shadow: 0px 1px 2px rgba(60, 64, 67, 0.3), 0px 1px 3px 1px rgba(60, 64, 67, 0.15);\n",
              "      fill: #174EA6;\n",
              "    }\n",
              "\n",
              "    [theme=dark] .colab-df-convert {\n",
              "      background-color: #3B4455;\n",
              "      fill: #D2E3FC;\n",
              "    }\n",
              "\n",
              "    [theme=dark] .colab-df-convert:hover {\n",
              "      background-color: #434B5C;\n",
              "      box-shadow: 0px 1px 3px 1px rgba(0, 0, 0, 0.15);\n",
              "      filter: drop-shadow(0px 1px 2px rgba(0, 0, 0, 0.3));\n",
              "      fill: #FFFFFF;\n",
              "    }\n",
              "  </style>\n",
              "\n",
              "      <script>\n",
              "        const buttonEl =\n",
              "          document.querySelector('#df-c4d9dba2-d920-45e9-a127-6f14941858e0 button.colab-df-convert');\n",
              "        buttonEl.style.display =\n",
              "          google.colab.kernel.accessAllowed ? 'block' : 'none';\n",
              "\n",
              "        async function convertToInteractive(key) {\n",
              "          const element = document.querySelector('#df-c4d9dba2-d920-45e9-a127-6f14941858e0');\n",
              "          const dataTable =\n",
              "            await google.colab.kernel.invokeFunction('convertToInteractive',\n",
              "                                                     [key], {});\n",
              "          if (!dataTable) return;\n",
              "\n",
              "          const docLinkHtml = 'Like what you see? Visit the ' +\n",
              "            '<a target=\"_blank\" href=https://colab.research.google.com/notebooks/data_table.ipynb>data table notebook</a>'\n",
              "            + ' to learn more about interactive tables.';\n",
              "          element.innerHTML = '';\n",
              "          dataTable['output_type'] = 'display_data';\n",
              "          await google.colab.output.renderOutput(dataTable, element);\n",
              "          const docLink = document.createElement('div');\n",
              "          docLink.innerHTML = docLinkHtml;\n",
              "          element.appendChild(docLink);\n",
              "        }\n",
              "      </script>\n",
              "    </div>\n",
              "  </div>\n",
              "  "
            ],
            "text/plain": [
              "   id keyword location                                               text  \\\n",
              "0   1     NaN      NaN  Our Deeds are the Reason of this #earthquake M...   \n",
              "1   4     NaN      NaN             Forest fire near La Ronge Sask. Canada   \n",
              "2   5     NaN      NaN  All residents asked to 'shelter in place' are ...   \n",
              "3   6     NaN      NaN  13,000 people receive #wildfires evacuation or...   \n",
              "4   7     NaN      NaN  Just got sent this photo from Ruby #Alaska as ...   \n",
              "\n",
              "   target  \n",
              "0       1  \n",
              "1       1  \n",
              "2       1  \n",
              "3       1  \n",
              "4       1  "
            ]
          },
          "execution_count": 39,
          "metadata": {},
          "output_type": "execute_result"
        }
      ],
      "source": [
        "df = pd.read_csv('./train.csv')\n",
        "df.head()"
      ]
    },
    {
      "cell_type": "code",
      "execution_count": 40,
      "metadata": {
        "id": "MeER9b3FlQFF"
      },
      "outputs": [],
      "source": [
        "# take the first 1000 data points due to memory constraints\n",
        "df=df.loc[0:999]"
      ]
    },
    {
      "cell_type": "code",
      "execution_count": 41,
      "metadata": {
        "colab": {
          "base_uri": "https://localhost:8080/"
        },
        "id": "5qkjOOAulVDh",
        "outputId": "4fa7e52d-29a4-4ba6-eaf5-9fb477ed02d2"
      },
      "outputs": [
        {
          "data": {
            "text/plain": [
              "(1000, 5)"
            ]
          },
          "execution_count": 41,
          "metadata": {},
          "output_type": "execute_result"
        }
      ],
      "source": [
        "df.shape"
      ]
    },
    {
      "cell_type": "code",
      "execution_count": 42,
      "metadata": {
        "id": "UEWBY8-SbPtL"
      },
      "outputs": [],
      "source": [
        "df.drop(columns=['id','keyword','location'],inplace=True)"
      ]
    },
    {
      "cell_type": "code",
      "execution_count": 43,
      "metadata": {
        "colab": {
          "base_uri": "https://localhost:8080/",
          "height": 294
        },
        "id": "46Oyf58obPtL",
        "outputId": "7e8104fd-03cd-402e-ad51-05b9515d20bd"
      },
      "outputs": [
        {
          "data": {
            "text/plain": [
              "<Figure size 576x432 with 0 Axes>"
            ]
          },
          "metadata": {},
          "output_type": "display_data"
        },
        {
          "data": {
            "image/png": "[encoded data removed]",
            "text/plain": [
              "<Figure size 432x288 with 1 Axes>"
            ]
          },
          "metadata": {
            "needs_background": "light"
          },
          "output_type": "display_data"
        }
      ],
      "source": [
        "import matplotlib.pyplot as plt\n",
        "fig = plt.figure(figsize=(8,6))\n",
        "df.groupby('target').count().plot.bar(ylim=0)\n",
        "plt.xticks(fontsize=12)\n",
        "plt.ylabel('count')\n",
        "plt.show()"
      ]
    },
    {
      "cell_type": "code",
      "execution_count": 44,
      "metadata": {
        "colab": {
          "base_uri": "https://localhost:8080/"
        },
        "id": "yTC1ttqObPtM",
        "outputId": "4eeb26dc-0da3-453a-e715-a16b379fe284"
      },
      "outputs": [
        {
          "name": "stdout",
          "output_type": "stream",
          "text": [
            "[nltk_data] Downloading package wordnet to /root/nltk_data...\n",
            "[nltk_data]   Package wordnet is already up-to-date!\n",
            "[nltk_data] Downloading package stopwords to /root/nltk_data...\n",
            "[nltk_data]   Package stopwords is already up-to-date!\n",
            "[nltk_data] Downloading package omw-1.4 to /root/nltk_data...\n",
            "[nltk_data]   Package omw-1.4 is already up-to-date!\n"
          ]
        }
      ],
      "source": [
        "# text cleaning\n",
        "\n",
        "from nltk.stem import WordNetLemmatizer\n",
        "import nltk\n",
        "from textblob import TextBlob \n",
        "from tqdm.notebook import tqdm\n",
        "\n",
        "tqdm.pandas()\n",
        "nltk.download('wordnet')\n",
        "nltk.download('stopwords')\n",
        "nltk.download('omw-1.4')\n",
        "lemmatizer = WordNetLemmatizer()\n",
        "stop_words = set(stopwords.words('english'))\n",
        "\n",
        "proc_df = pd.DataFrame()\n",
        "def pre_process(text):\n",
        "    #remove url\n",
        "    text = re.sub(r'http\\S+', '', text)\n",
        "    #remove special characters\n",
        "    text = re.sub('\\W', ' ', text)\n",
        "    #remove digits\n",
        "    text = re.sub(r'\\d+', '', text)\n",
        "    #remove underline\n",
        "    text = re.sub(r'_',' ', text)  \n",
        "    #remove white spaces\n",
        "    text = re.sub(r'\\s+',' ', text)\n",
        "    #to lower\n",
        "    text = text.lower()\n",
        "    #correct typos\n",
        "    # text = str(TextBlob(text).correct())\n",
        "\n",
        "    #remove stopwords\n",
        "    text = ' '.join([word for word in text.split() if word not in (stop_words)])\n",
        "    #lemmatize\n",
        "    text = \" \".join([lemmatizer.lemmatize(word) for word in text.split()])\n",
        "        # remove single letters\n",
        "    text = ' '.join(i for i in text.split() if not (i.isalpha() and len(i)==1))\n",
        "    return text\n",
        "\n"
      ]
    },
    {
      "cell_type": "code",
      "execution_count": 45,
      "metadata": {
        "colab": {
          "base_uri": "https://localhost:8080/",
          "height": 206
        },
        "id": "e1aczGTxjgqp",
        "outputId": "10526397-5c4b-44f1-f594-f25050aac60b"
      },
      "outputs": [
        {
          "data": {
            "text/html": [
              "\n",
              "  <div id=\"df-fe7e21bd-5021-4944-94af-c8824ba6432c\">\n",
              "    <div class=\"colab-df-container\">\n",
              "      <div>\n",
              "<style scoped>\n",
              "    .dataframe tbody tr th:only-of-type {\n",
              "        vertical-align: middle;\n",
              "    }\n",
              "\n",
              "    .dataframe tbody tr th {\n",
              "        vertical-align: top;\n",
              "    }\n",
              "\n",
              "    .dataframe thead th {\n",
              "        text-align: right;\n",
              "    }\n",
              "</style>\n",
              "<table border=\"1\" class=\"dataframe\">\n",
              "  <thead>\n",
              "    <tr style=\"text-align: right;\">\n",
              "      <th></th>\n",
              "      <th>text</th>\n",
              "      <th>target</th>\n",
              "    </tr>\n",
              "  </thead>\n",
              "  <tbody>\n",
              "    <tr>\n",
              "      <th>0</th>\n",
              "      <td>Our Deeds are the Reason of this #earthquake M...</td>\n",
              "      <td>1</td>\n",
              "    </tr>\n",
              "    <tr>\n",
              "      <th>1</th>\n",
              "      <td>Forest fire near La Ronge Sask. Canada</td>\n",
              "      <td>1</td>\n",
              "    </tr>\n",
              "    <tr>\n",
              "      <th>2</th>\n",
              "      <td>All residents asked to 'shelter in place' are ...</td>\n",
              "      <td>1</td>\n",
              "    </tr>\n",
              "    <tr>\n",
              "      <th>3</th>\n",
              "      <td>13,000 people receive #wildfires evacuation or...</td>\n",
              "      <td>1</td>\n",
              "    </tr>\n",
              "    <tr>\n",
              "      <th>4</th>\n",
              "      <td>Just got sent this photo from Ruby #Alaska as ...</td>\n",
              "      <td>1</td>\n",
              "    </tr>\n",
              "  </tbody>\n",
              "</table>\n",
              "</div>\n",
              "      <button class=\"colab-df-convert\" onclick=\"convertToInteractive('df-fe7e21bd-5021-4944-94af-c8824ba6432c')\"\n",
              "              title=\"Convert this dataframe to an interactive table.\"\n",
              "              style=\"display:none;\">\n",
              "        \n",
              "  <svg xmlns=\"http://www.w3.org/2000/svg\" height=\"24px\"viewBox=\"0 0 24 24\"\n",
              "       width=\"24px\">\n",
              "    <path d=\"M0 0h24v24H0V0z\" fill=\"none\"/>\n",
              "    <path d=\"M18.56 5.44l.94 2.06.94-2.06 2.06-.94-2.06-.94-.94-2.06-.94 2.06-2.06.94zm-11 1L8.5 8.5l.94-2.06 2.06-.94-2.06-.94L8.5 2.5l-.94 2.06-2.06.94zm10 10l.94 2.06.94-2.06 2.06-.94-2.06-.94-.94-2.06-.94 2.06-2.06.94z\"/><path d=\"M17.41 7.96l-1.37-1.37c-.4-.4-.92-.59-1.43-.59-.52 0-1.04.2-1.43.59L10.3 9.45l-7.72 7.72c-.78.78-.78 2.05 0 2.83L4 21.41c.39.39.9.59 1.41.59.51 0 1.02-.2 1.41-.59l7.78-7.78 2.81-2.81c.8-.78.8-2.07 0-2.86zM5.41 20L4 18.59l7.72-7.72 1.47 1.35L5.41 20z\"/>\n",
              "  </svg>\n",
              "      </button>\n",
              "      \n",
              "  <style>\n",
              "    .colab-df-container {\n",
              "      display:flex;\n",
              "      flex-wrap:wrap;\n",
              "      gap: 12px;\n",
              "    }\n",
              "\n",
              "    .colab-df-convert {\n",
              "      background-color: #E8F0FE;\n",
              "      border: none;\n",
              "      border-radius: 50%;\n",
              "      cursor: pointer;\n",
              "      display: none;\n",
              "      fill: #1967D2;\n",
              "      height: 32px;\n",
              "      padding: 0 0 0 0;\n",
              "      width: 32px;\n",
              "    }\n",
              "\n",
              "    .colab-df-convert:hover {\n",
              "      background-color: #E2EBFA;\n",
              "      box-shadow: 0px 1px 2px rgba(60, 64, 67, 0.3), 0px 1px 3px 1px rgba(60, 64, 67, 0.15);\n",
              "      fill: #174EA6;\n",
              "    }\n",
              "\n",
              "    [theme=dark] .colab-df-convert {\n",
              "      background-color: #3B4455;\n",
              "      fill: #D2E3FC;\n",
              "    }\n",
              "\n",
              "    [theme=dark] .colab-df-convert:hover {\n",
              "      background-color: #434B5C;\n",
              "      box-shadow: 0px 1px 3px 1px rgba(0, 0, 0, 0.15);\n",
              "      filter: drop-shadow(0px 1px 2px rgba(0, 0, 0, 0.3));\n",
              "      fill: #FFFFFF;\n",
              "    }\n",
              "  </style>\n",
              "\n",
              "      <script>\n",
              "        const buttonEl =\n",
              "          document.querySelector('#df-fe7e21bd-5021-4944-94af-c8824ba6432c button.colab-df-convert');\n",
              "        buttonEl.style.display =\n",
              "          google.colab.kernel.accessAllowed ? 'block' : 'none';\n",
              "\n",
              "        async function convertToInteractive(key) {\n",
              "          const element = document.querySelector('#df-fe7e21bd-5021-4944-94af-c8824ba6432c');\n",
              "          const dataTable =\n",
              "            await google.colab.kernel.invokeFunction('convertToInteractive',\n",
              "                                                     [key], {});\n",
              "          if (!dataTable) return;\n",
              "\n",
              "          const docLinkHtml = 'Like what you see? Visit the ' +\n",
              "            '<a target=\"_blank\" href=https://colab.research.google.com/notebooks/data_table.ipynb>data table notebook</a>'\n",
              "            + ' to learn more about interactive tables.';\n",
              "          element.innerHTML = '';\n",
              "          dataTable['output_type'] = 'display_data';\n",
              "          await google.colab.output.renderOutput(dataTable, element);\n",
              "          const docLink = document.createElement('div');\n",
              "          docLink.innerHTML = docLinkHtml;\n",
              "          element.appendChild(docLink);\n",
              "        }\n",
              "      </script>\n",
              "    </div>\n",
              "  </div>\n",
              "  "
            ],
            "text/plain": [
              "                                                text  target\n",
              "0  Our Deeds are the Reason of this #earthquake M...       1\n",
              "1             Forest fire near La Ronge Sask. Canada       1\n",
              "2  All residents asked to 'shelter in place' are ...       1\n",
              "3  13,000 people receive #wildfires evacuation or...       1\n",
              "4  Just got sent this photo from Ruby #Alaska as ...       1"
            ]
          },
          "execution_count": 45,
          "metadata": {},
          "output_type": "execute_result"
        }
      ],
      "source": [
        "df.head()"
      ]
    },
    {
      "cell_type": "code",
      "execution_count": 46,
      "metadata": {
        "colab": {
          "base_uri": "https://localhost:8080/",
          "height": 49,
          "referenced_widgets": [
            "6bb2316fc9a74c89acd92422b23c14fb",
            "f06e78b0b5f245e5875eefd18da56f45",
            "3d68db9cbbd9471bb44bcf8a4f2dbaec",
            "c4ed139f0859489ba888a3a5a64f57e0",
            "9c55eb5f0ba94c45b5a58e041814a7ff",
            "7aef45c7f52749ce81cb7a1ad9da334b",
            "92aed9c4f90d4c17bbaf40fe332469ae",
            "ae29c829b1ac4abe82d410949afaf359",
            "900fb000e5f2497db30f20426e14ff8d",
            "54d5644aaeab47f58747751d7a47360e",
            "cb81dbd0e32149b49fad47efc427db21"
          ]
        },
        "id": "yxBNziN8bPtN",
        "outputId": "1373e5e8-0496-4f68-fa13-9b1fafb4ba60"
      },
      "outputs": [
        {
          "data": {
            "application/vnd.jupyter.widget-view+json": {
              "model_id": "6bb2316fc9a74c89acd92422b23c14fb",
              "version_major": 2,
              "version_minor": 0
            },
            "text/plain": [
              "  0%|          | 0/1000 [00:00<?, ?it/s]"
            ]
          },
          "metadata": {},
          "output_type": "display_data"
        }
      ],
      "source": [
        "proc_df['text'] = df['text'].progress_apply(lambda text: pre_process(text))"
      ]
    },
    {
      "cell_type": "code",
      "execution_count": 47,
      "metadata": {
        "colab": {
          "base_uri": "https://localhost:8080/",
          "height": 206
        },
        "id": "_B7ZLg4CbPtN",
        "outputId": "bd471264-239e-4891-c2f9-1d4929f4d638"
      },
      "outputs": [
        {
          "data": {
            "text/html": [
              "\n",
              "  <div id=\"df-a50be176-fa32-4bbc-927d-13677cb86798\">\n",
              "    <div class=\"colab-df-container\">\n",
              "      <div>\n",
              "<style scoped>\n",
              "    .dataframe tbody tr th:only-of-type {\n",
              "        vertical-align: middle;\n",
              "    }\n",
              "\n",
              "    .dataframe tbody tr th {\n",
              "        vertical-align: top;\n",
              "    }\n",
              "\n",
              "    .dataframe thead th {\n",
              "        text-align: right;\n",
              "    }\n",
              "</style>\n",
              "<table border=\"1\" class=\"dataframe\">\n",
              "  <thead>\n",
              "    <tr style=\"text-align: right;\">\n",
              "      <th></th>\n",
              "      <th>text</th>\n",
              "      <th>target</th>\n",
              "    </tr>\n",
              "  </thead>\n",
              "  <tbody>\n",
              "    <tr>\n",
              "      <th>0</th>\n",
              "      <td>deed reason earthquake may allah forgive</td>\n",
              "      <td>1</td>\n",
              "    </tr>\n",
              "    <tr>\n",
              "      <th>1</th>\n",
              "      <td>forest fire near la ronge sask canada</td>\n",
              "      <td>1</td>\n",
              "    </tr>\n",
              "    <tr>\n",
              "      <th>2</th>\n",
              "      <td>resident asked shelter place notified officer ...</td>\n",
              "      <td>1</td>\n",
              "    </tr>\n",
              "    <tr>\n",
              "      <th>3</th>\n",
              "      <td>people receive wildfire evacuation order calif...</td>\n",
              "      <td>1</td>\n",
              "    </tr>\n",
              "    <tr>\n",
              "      <th>4</th>\n",
              "      <td>got sent photo ruby alaska smoke wildfire pour...</td>\n",
              "      <td>1</td>\n",
              "    </tr>\n",
              "  </tbody>\n",
              "</table>\n",
              "</div>\n",
              "      <button class=\"colab-df-convert\" onclick=\"convertToInteractive('df-a50be176-fa32-4bbc-927d-13677cb86798')\"\n",
              "              title=\"Convert this dataframe to an interactive table.\"\n",
              "              style=\"display:none;\">\n",
              "        \n",
              "  <svg xmlns=\"http://www.w3.org/2000/svg\" height=\"24px\"viewBox=\"0 0 24 24\"\n",
              "       width=\"24px\">\n",
              "    <path d=\"M0 0h24v24H0V0z\" fill=\"none\"/>\n",
              "    <path d=\"M18.56 5.44l.94 2.06.94-2.06 2.06-.94-2.06-.94-.94-2.06-.94 2.06-2.06.94zm-11 1L8.5 8.5l.94-2.06 2.06-.94-2.06-.94L8.5 2.5l-.94 2.06-2.06.94zm10 10l.94 2.06.94-2.06 2.06-.94-2.06-.94-.94-2.06-.94 2.06-2.06.94z\"/><path d=\"M17.41 7.96l-1.37-1.37c-.4-.4-.92-.59-1.43-.59-.52 0-1.04.2-1.43.59L10.3 9.45l-7.72 7.72c-.78.78-.78 2.05 0 2.83L4 21.41c.39.39.9.59 1.41.59.51 0 1.02-.2 1.41-.59l7.78-7.78 2.81-2.81c.8-.78.8-2.07 0-2.86zM5.41 20L4 18.59l7.72-7.72 1.47 1.35L5.41 20z\"/>\n",
              "  </svg>\n",
              "      </button>\n",
              "      \n",
              "  <style>\n",
              "    .colab-df-container {\n",
              "      display:flex;\n",
              "      flex-wrap:wrap;\n",
              "      gap: 12px;\n",
              "    }\n",
              "\n",
              "    .colab-df-convert {\n",
              "      background-color: #E8F0FE;\n",
              "      border: none;\n",
              "      border-radius: 50%;\n",
              "      cursor: pointer;\n",
              "      display: none;\n",
              "      fill: #1967D2;\n",
              "      height: 32px;\n",
              "      padding: 0 0 0 0;\n",
              "      width: 32px;\n",
              "    }\n",
              "\n",
              "    .colab-df-convert:hover {\n",
              "      background-color: #E2EBFA;\n",
              "      box-shadow: 0px 1px 2px rgba(60, 64, 67, 0.3), 0px 1px 3px 1px rgba(60, 64, 67, 0.15);\n",
              "      fill: #174EA6;\n",
              "    }\n",
              "\n",
              "    [theme=dark] .colab-df-convert {\n",
              "      background-color: #3B4455;\n",
              "      fill: #D2E3FC;\n",
              "    }\n",
              "\n",
              "    [theme=dark] .colab-df-convert:hover {\n",
              "      background-color: #434B5C;\n",
              "      box-shadow: 0px 1px 3px 1px rgba(0, 0, 0, 0.15);\n",
              "      filter: drop-shadow(0px 1px 2px rgba(0, 0, 0, 0.3));\n",
              "      fill: #FFFFFF;\n",
              "    }\n",
              "  </style>\n",
              "\n",
              "      <script>\n",
              "        const buttonEl =\n",
              "          document.querySelector('#df-a50be176-fa32-4bbc-927d-13677cb86798 button.colab-df-convert');\n",
              "        buttonEl.style.display =\n",
              "          google.colab.kernel.accessAllowed ? 'block' : 'none';\n",
              "\n",
              "        async function convertToInteractive(key) {\n",
              "          const element = document.querySelector('#df-a50be176-fa32-4bbc-927d-13677cb86798');\n",
              "          const dataTable =\n",
              "            await google.colab.kernel.invokeFunction('convertToInteractive',\n",
              "                                                     [key], {});\n",
              "          if (!dataTable) return;\n",
              "\n",
              "          const docLinkHtml = 'Like what you see? Visit the ' +\n",
              "            '<a target=\"_blank\" href=https://colab.research.google.com/notebooks/data_table.ipynb>data table notebook</a>'\n",
              "            + ' to learn more about interactive tables.';\n",
              "          element.innerHTML = '';\n",
              "          dataTable['output_type'] = 'display_data';\n",
              "          await google.colab.output.renderOutput(dataTable, element);\n",
              "          const docLink = document.createElement('div');\n",
              "          docLink.innerHTML = docLinkHtml;\n",
              "          element.appendChild(docLink);\n",
              "        }\n",
              "      </script>\n",
              "    </div>\n",
              "  </div>\n",
              "  "
            ],
            "text/plain": [
              "                                                text  target\n",
              "0           deed reason earthquake may allah forgive       1\n",
              "1              forest fire near la ronge sask canada       1\n",
              "2  resident asked shelter place notified officer ...       1\n",
              "3  people receive wildfire evacuation order calif...       1\n",
              "4  got sent photo ruby alaska smoke wildfire pour...       1"
            ]
          },
          "execution_count": 47,
          "metadata": {},
          "output_type": "execute_result"
        }
      ],
      "source": [
        "proc_df['target']=df['target']\n",
        "proc_df.head()"
      ]
    },
    {
      "cell_type": "code",
      "execution_count": 48,
      "metadata": {
        "id": "2ExE6qE9bPtO"
      },
      "outputs": [],
      "source": [
        "df_data = proc_df.copy()"
      ]
    },
    {
      "cell_type": "code",
      "execution_count": 49,
      "metadata": {
        "colab": {
          "base_uri": "https://localhost:8080/"
        },
        "id": "LYsR1cQvbPtP",
        "outputId": "c533e87e-5a64-4e31-8f85-c0b784a1a3f7"
      },
      "outputs": [
        {
          "name": "stderr",
          "output_type": "stream",
          "text": [
            "/usr/local/lib/python3.7/dist-packages/sklearn/utils/deprecation.py:87: FutureWarning: Function get_feature_names is deprecated; get_feature_names is deprecated in 1.0 and will be removed in 1.2. Please use get_feature_names_out instead.\n",
            "  warnings.warn(msg, category=FutureWarning)\n"
          ]
        }
      ],
      "source": [
        "### Tfidf\n",
        "from sklearn.feature_extraction.text import TfidfVectorizer\n",
        "\n",
        "vectorizer = TfidfVectorizer(input=\"content\", max_features=None, tokenizer=None, stop_words=None)\n",
        "vectorizer.fit(df_data[\"text\"])\n",
        "df_tfidf = vectorizer.transform(df_data[\"text\"])\n",
        "df_tfidf = df_tfidf.toarray()\n",
        "vocab = vectorizer.get_feature_names()\n",
        "vocab = np.array(vocab)\n",
        "df_tfidf = pd.DataFrame(df_tfidf,columns=vocab)"
      ]
    },
    {
      "cell_type": "code",
      "execution_count": 50,
      "metadata": {
        "colab": {
          "base_uri": "https://localhost:8080/"
        },
        "id": "3_bkClvvbPtP",
        "outputId": "51d8251e-6de7-4c4f-ca0e-cea8418cf526"
      },
      "outputs": [
        {
          "name": "stdout",
          "output_type": "stream",
          "text": [
            "[nltk_data] Downloading package punkt to /root/nltk_data...\n",
            "[nltk_data]   Package punkt is already up-to-date!\n"
          ]
        }
      ],
      "source": [
        "import nltk\n",
        "nltk.download('punkt')\n",
        "def filter_tokens(tokens, stopwords):\n",
        "    tokens1 = []\n",
        "    for token in tokens:\n",
        "        if (token not in stopwords) and (token not in [\".\",\",\",\";\",\"&\",\"'s\", \":\", \"?\", \"!\",\"(\",\")\",\\\n",
        "            \"'\",\"'m\",\"'no\",\"***\",\"--\",\"...\",\"[\",\"]\",'wan','ta','lem','na']):\n",
        "            tokens1.append(token)\n",
        "    return tokens1\n",
        "\n",
        "stopwords = list(set(nltk.corpus.stopwords.words(\"english\")))\n",
        "\n",
        "df_data[\"text\"] = df_data[\"text\"].apply(lambda x: nltk.word_tokenize(x)).apply(lambda x: filter_tokens(x, stopwords))"
      ]
    },
    {
      "cell_type": "code",
      "execution_count": 50,
      "metadata": {
        "id": "8Y8yFhn0bPtP"
      },
      "outputs": [],
      "source": [
        "\n"
      ]
    },
    {
      "cell_type": "code",
      "execution_count": 51,
      "metadata": {
        "colab": {
          "base_uri": "https://localhost:8080/",
          "height": 49,
          "referenced_widgets": [
            "4db543ce6365492c92532cd38bc718e8",
            "8475bd0880504a538f7b4aed1e3145f7",
            "298cd14f7e1f493684564d89e7f0464f",
            "c13cd4c6bb8b4bea96e729d136967edf",
            "351ba2d7e5a84c91bf95dbdd96984488",
            "ffa232996dfa4469803e4b0a18a59149",
            "8c5cab06954b4ebeab5a00836b22cc24",
            "f099d63794b94a78a7c01c698d5c9dc4",
            "56d533c138b04b95a56ea1b9cace222b",
            "a601277be7df470f92ffea375b48bff6",
            "3d86d11926bc445cab2955e6d3d7084a"
          ]
        },
        "id": "-AO7EyTvbPtQ",
        "outputId": "cc7b7350-1e8b-46b7-ee32-e336ecc641e8"
      },
      "outputs": [
        {
          "data": {
            "application/vnd.jupyter.widget-view+json": {
              "model_id": "4db543ce6365492c92532cd38bc718e8",
              "version_major": 2,
              "version_minor": 0
            },
            "text/plain": [
              "  0%|          | 0/1000 [00:00<?, ?it/s]"
            ]
          },
          "metadata": {},
          "output_type": "display_data"
        }
      ],
      "source": [
        "### PMI between words\n",
        "window = 3 # sliding window size to calculate point-wise mutual information between words\n",
        "names = vocab\n",
        "n_i  = OrderedDict((name, 0) for name in names)\n",
        "word2index = OrderedDict( (name,index) for index,name in enumerate(names) )\n",
        "occurrences = np.zeros( (len(names),len(names)) ,dtype=np.int32)\n",
        "\n",
        "# Find the co-occurrences:\n",
        "no_windows = 0\n",
        "for l in tqdm(df_data[\"text\"], total=len(df_data[\"text\"])):\n",
        "    for i in range(len(l)-window):\n",
        "        no_windows += 1\n",
        "        d = set(l[i:(i+window)])\n",
        "\n",
        "        for w in d:\n",
        "            n_i[w] += 1\n",
        "        for w1,w2 in combinations(d,2):\n",
        "            i1 = word2index[w1]\n",
        "            i2 = word2index[w2]\n",
        "\n",
        "            occurrences[i1][i2] += 1\n",
        "            occurrences[i2][i1] += 1\n",
        "\n",
        "### convert to PMI\n",
        "p_ij = pd.DataFrame(occurrences, index = names,columns=names)/no_windows\n",
        "p_i = pd.Series(n_i, index=n_i.keys())/no_windows\n",
        "\n",
        "for col in p_ij.columns:\n",
        "    p_ij[col] = p_ij[col]/p_i[col]\n",
        "for row in p_ij.index:\n",
        "    p_ij.loc[row,:] = p_ij.loc[row,:]/p_i[row]\n",
        "p_ij = p_ij + 1E-9\n",
        "for col in p_ij.columns:\n",
        "    p_ij[col] = p_ij[col].apply(lambda x: math.log(x))"
      ]
    },
    {
      "cell_type": "code",
      "execution_count": 52,
      "metadata": {
        "colab": {
          "base_uri": "https://localhost:8080/",
          "height": 49,
          "referenced_widgets": [
            "1792caadd683493481e499025aaa9f23",
            "7baad7027cab40e797b2bd09ddbf8c79",
            "5dc8a48c06b34925902c694da5bec58a",
            "3b6234a7ebeb4f389741c49acc3624ea",
            "1355f946d9ce495d91d77de65b1933a3",
            "c5cb024148ad406fa13ae644de711e1c",
            "bf5ddee6229f47aeaa37ebf1e59d24ce",
            "4d2ebdacbfc546749f13f332f02b26b0",
            "47301be7e959427183b2525b38cee4a3",
            "3e28091e265d451ba22b7c73c01e0802",
            "67e17cf86c4b487981aac0d5655e06f8"
          ]
        },
        "id": "VfjjhQIObPtQ",
        "outputId": "0199f210-1175-4c01-eb65-03e33f7b4ece"
      },
      "outputs": [
        {
          "data": {
            "application/vnd.jupyter.widget-view+json": {
              "model_id": "1792caadd683493481e499025aaa9f23",
              "version_major": 2,
              "version_minor": 0
            },
            "text/plain": [
              "  0%|          | 0/6242811 [00:00<?, ?it/s]"
            ]
          },
          "metadata": {},
          "output_type": "display_data"
        }
      ],
      "source": [
        "# build graph\n",
        "\n",
        "def nCr(n,r):\n",
        "    f = math.factorial\n",
        "    return int(f(n)/(f(r)*f(n-r)))\n",
        "    \n",
        "def word_word_edges(p_ij):\n",
        "    word_word = []\n",
        "    cols = list(p_ij.columns); cols = [str(w) for w in cols]\n",
        "    for w1, w2 in tqdm(combinations(cols, 2), total=nCr(len(cols), 2)):\n",
        "        if (p_ij.loc[w1,w2] > 0):\n",
        "            word_word.append((w1,w2,{\"weight\":p_ij.loc[w1,w2]}))\n",
        "    return word_word\n",
        "\n",
        "### Build graph\n",
        "G = nx.Graph()\n",
        "G.add_nodes_from(df_tfidf.index) ## document nodes\n",
        "G.add_nodes_from(vocab) ## word nodes\n",
        "### build edges between document-word pairs\n",
        "document_word = [(doc,w,{\"weight\":df_tfidf.loc[doc,w]}) for doc in df_tfidf.index for w in df_tfidf.columns]\n",
        "G.add_edges_from(document_word)\n",
        "### build edges between word-word pairs\n",
        "word_word = word_word_edges(p_ij)\n",
        "G.add_edges_from(word_word)"
      ]
    },
    {
      "cell_type": "markdown",
      "metadata": {
        "id": "OPdn9PO17PfO"
      },
      "source": [
        "#**Build GNN**"
      ]
    },
    {
      "cell_type": "code",
      "execution_count": 79,
      "metadata": {
        "id": "3_O5DXVj6KJz"
      },
      "outputs": [],
      "source": [
        "import logging\n",
        "logging.basicConfig(format='%(asctime)s [%(levelname)s]: %(message)s', \\\n",
        "                    datefmt='%m/%d/%Y %I:%M:%S %p', level=logging.INFO)\n",
        "logger = logging.getLogger()\n",
        "\n"
      ]
    },
    {
      "cell_type": "code",
      "execution_count": 80,
      "metadata": {
        "colab": {
          "base_uri": "https://localhost:8080/"
        },
        "id": "130odMma6_Me",
        "outputId": "96d5acd6-da9a-482d-95c5-1cd7098e8c4b"
      },
      "outputs": [
        {
          "name": "stderr",
          "output_type": "stream",
          "text": [
            "04/19/2022 03:56:01 AM [INFO]: Splitting labels for training and inferring...\n",
            "04/19/2022 03:56:02 AM [INFO]: Split into 750 train and 250 test lebels.\n"
          ]
        }
      ],
      "source": [
        "# train test split\n",
        "\n",
        "A = nx.to_numpy_matrix(G, weight=\"weight\"); A = A + np.eye(G.number_of_nodes())\n",
        "degrees = []\n",
        "for d in G.degree(weight=None):\n",
        "    if d == 0:\n",
        "        degrees.append(0)\n",
        "    else:\n",
        "        degrees.append(d[1]**(-0.5))\n",
        "degrees = np.diag(degrees)\n",
        "X = np.eye(G.number_of_nodes()) # Features are just identity matrix\n",
        "A_hat = degrees@A@degrees\n",
        "f = X # (n X n) X (n X n) x (n X n) X (n X n) input of net\n",
        "\n",
        "logger.info(\"Splitting labels for training and inferring...\")\n",
        "### stratified test samples\n",
        "test_idxs = random.sample(range(0, 1000), 250)\n",
        "\n",
        "# select only certain labelled nodes for semi-supervised GCN\n",
        "selected = []\n",
        "for i in range(len(df_data)):\n",
        "    if i not in test_idxs:\n",
        "        selected.append(i)\n",
        "\n",
        "f_selected = f[selected]; f_selected = torch.from_numpy(f_selected).float()\n",
        "labels_selected = [l for idx, l in enumerate(df_data[\"target\"]) if idx in selected]\n",
        "f_not_selected = f[test_idxs]; f_not_selected = torch.from_numpy(f_not_selected).float()\n",
        "labels_not_selected = [l for idx, l in enumerate(df_data[\"target\"]) if idx not in selected]\n",
        "f = torch.from_numpy(f).float()\n",
        "logger.info(\"Split into %d train and %d test lebels.\" % (len(labels_selected), len(labels_not_selected)))"
      ]
    },
    {
      "cell_type": "code",
      "execution_count": 89,
      "metadata": {
        "id": "FG5NjeWdDxHR"
      },
      "outputs": [],
      "source": [
        "# parameters for gnn\n",
        "\n",
        "hidden_size_1=330\n",
        "hidden_size_2=130\n",
        "num_classes=2\n",
        "num_epochs=1000\n",
        "lr=0.011"
      ]
    },
    {
      "cell_type": "code",
      "execution_count": 119,
      "metadata": {
        "id": "aSfcIdQ88y-y"
      },
      "outputs": [],
      "source": [
        "# define gnn model\n",
        "\n",
        "class gcn(nn.Module):\n",
        "    def __init__(self, X_size, A_hat, hidden_size_1,hidden_size_2,num_classes, bias=True): # X_size = num features\n",
        "        super(gcn, self).__init__()\n",
        "        self.A_hat = torch.tensor(A_hat, requires_grad=False).float()\n",
        "        self.weight = nn.parameter.Parameter(torch.FloatTensor(X_size, hidden_size_1))\n",
        "        var = 2./(self.weight.size(1)+self.weight.size(0))\n",
        "        self.weight.data.normal_(0,var)\n",
        "        self.weight2 = nn.parameter.Parameter(torch.FloatTensor(hidden_size_1, hidden_size_2))\n",
        "        var2 = 2./(self.weight2.size(1)+self.weight2.size(0))\n",
        "        self.weight2.data.normal_(0,var2)\n",
        "        if bias:\n",
        "            self.bias = nn.parameter.Parameter(torch.FloatTensor(hidden_size_1))\n",
        "            self.bias.data.normal_(0,var)\n",
        "            self.bias2 = nn.parameter.Parameter(torch.FloatTensor(hidden_size_2))\n",
        "            self.bias2.data.normal_(0,var2)\n",
        "        else:\n",
        "            self.register_parameter(\"bias\", None)\n",
        "        self.fc1 = nn.Linear(hidden_size_2, num_classes) # output layer with no. of classes node\n",
        "        \n",
        "    def forward(self, X): ### 2-layer GCN architecture\n",
        "        X = torch.mm(X, self.weight)\n",
        "        if self.bias is not None:\n",
        "            X = (X + self.bias)\n",
        "        X = F.relu(torch.mm(self.A_hat, X))\n",
        "        X = torch.mm(X, self.weight2)\n",
        "        if self.bias2 is not None:\n",
        "            X = (X + self.bias2)\n",
        "        X = F.relu(torch.mm(self.A_hat, X))\n",
        "        return self.fc1(X)\n",
        "\n",
        "\n",
        "  "
      ]
    },
    {
      "cell_type": "code",
      "execution_count": 132,
      "metadata": {
        "id": "i23avoWUAWF2"
      },
      "outputs": [],
      "source": [
        "# evaluation of accuracy\n",
        "def evaluate(output, labels_e):\n",
        "    _, labels = output.max(1); labels = labels.numpy()\n",
        "    return sum([e for e in labels_e] == labels)/len(labels)"
      ]
    },
    {
      "cell_type": "code",
      "execution_count": 134,
      "metadata": {
        "colab": {
          "base_uri": "https://localhost:8080/"
        },
        "id": "IT8iBN2B_9yg",
        "outputId": "2c322248-70eb-41d6-c92b-240bffa8cf3d"
      },
      "outputs": [
        {
          "name": "stderr",
          "output_type": "stream",
          "text": [
            "04/19/2022 07:17:35 AM [INFO]: Starting training process...\n"
          ]
        },
        {
          "name": "stdout",
          "output_type": "stream",
          "text": [
            "[Epoch 0]: Evaluation accuracy of trained nodes: 0.6986667\n",
            "[Epoch 0]: Evaluation accuracy of test nodes: 0.6840000\n",
            "[Epoch 50]: Evaluation accuracy of trained nodes: 0.6986667\n",
            "[Epoch 50]: Evaluation accuracy of test nodes: 0.6840000\n",
            "[Epoch 100]: Evaluation accuracy of trained nodes: 0.6986667\n",
            "[Epoch 100]: Evaluation accuracy of test nodes: 0.6840000\n",
            "[Epoch 150]: Evaluation accuracy of trained nodes: 0.9333333\n",
            "[Epoch 150]: Evaluation accuracy of test nodes: 0.5720000\n",
            "[Epoch 200]: Evaluation accuracy of trained nodes: 0.9600000\n",
            "[Epoch 200]: Evaluation accuracy of test nodes: 0.5760000\n",
            "[Epoch 250]: Evaluation accuracy of trained nodes: 0.9680000\n",
            "[Epoch 250]: Evaluation accuracy of test nodes: 0.5760000\n",
            "[Epoch 300]: Evaluation accuracy of trained nodes: 0.9706667\n",
            "[Epoch 300]: Evaluation accuracy of test nodes: 0.5880000\n",
            "[Epoch 350]: Evaluation accuracy of trained nodes: 0.9746667\n",
            "[Epoch 350]: Evaluation accuracy of test nodes: 0.6080000\n",
            "[Epoch 400]: Evaluation accuracy of trained nodes: 0.9760000\n",
            "[Epoch 400]: Evaluation accuracy of test nodes: 0.6080000\n",
            "[Epoch 450]: Evaluation accuracy of trained nodes: 0.9746667\n",
            "[Epoch 450]: Evaluation accuracy of test nodes: 0.6040000\n",
            "[Epoch 500]: Evaluation accuracy of trained nodes: 0.9813333\n",
            "[Epoch 500]: Evaluation accuracy of test nodes: 0.6000000\n",
            "[Epoch 550]: Evaluation accuracy of trained nodes: 0.9813333\n",
            "[Epoch 550]: Evaluation accuracy of test nodes: 0.6000000\n",
            "[Epoch 600]: Evaluation accuracy of trained nodes: 0.9813333\n",
            "[Epoch 600]: Evaluation accuracy of test nodes: 0.6040000\n",
            "[Epoch 650]: Evaluation accuracy of trained nodes: 0.9826667\n",
            "[Epoch 650]: Evaluation accuracy of test nodes: 0.6080000\n",
            "[Epoch 700]: Evaluation accuracy of trained nodes: 0.9893333\n",
            "[Epoch 700]: Evaluation accuracy of test nodes: 0.6080000\n",
            "[Epoch 750]: Evaluation accuracy of trained nodes: 0.9960000\n",
            "[Epoch 750]: Evaluation accuracy of test nodes: 0.6040000\n",
            "[Epoch 800]: Evaluation accuracy of trained nodes: 0.9960000\n",
            "[Epoch 800]: Evaluation accuracy of test nodes: 0.6040000\n",
            "[Epoch 850]: Evaluation accuracy of trained nodes: 0.9960000\n",
            "[Epoch 850]: Evaluation accuracy of test nodes: 0.6080000\n",
            "[Epoch 900]: Evaluation accuracy of trained nodes: 0.9960000\n",
            "[Epoch 900]: Evaluation accuracy of test nodes: 0.6040000\n",
            "[Epoch 950]: Evaluation accuracy of trained nodes: 0.9960000\n",
            "[Epoch 950]: Evaluation accuracy of test nodes: 0.6040000\n"
          ]
        },
        {
          "name": "stderr",
          "output_type": "stream",
          "text": [
            "04/19/2022 07:27:19 AM [INFO]: Finished training!\n"
          ]
        }
      ],
      "source": [
        "# train gnn model\n",
        "net = gcn(X.shape[1], A_hat, hidden_size_1,hidden_size_2,num_classes)\n",
        "criterion = nn.CrossEntropyLoss() # binary cross entropy loss\n",
        "optimizer = optim.Adam(net.parameters(), lr)\n",
        "scheduler = optim.lr_scheduler.MultiStepLR(optimizer, milestones=[1000,2000,3000,4000,5000,6000], gamma=0.77)\n",
        "\n",
        "start_epoch, best_pred = 0,0\n",
        "losses_per_epoch, evaluation_untrained = [],[]\n",
        "\n",
        "logger.info(\"Starting training process...\")\n",
        "net.train()\n",
        "evaluation_trained = []\n",
        "for e in range(start_epoch, num_epochs):\n",
        "    optimizer.zero_grad()\n",
        "    output = net(f)\n",
        "    loss = criterion(output[selected], torch.tensor(labels_selected).long())\n",
        "    losses_per_epoch.append(loss.item())\n",
        "    loss.backward()\n",
        "    optimizer.step()\n",
        "    if e % 50 == 0:\n",
        "        ### Evaluate other untrained nodes and check accuracy of labelling\n",
        "        net.eval()\n",
        "        with torch.no_grad():\n",
        "            pred_labels = net(f)\n",
        "            trained_accuracy = evaluate(output[selected], labels_selected); untrained_accuracy = evaluate(pred_labels[test_idxs], labels_not_selected)\n",
        "        evaluation_trained.append((e, trained_accuracy)); evaluation_untrained.append((e, untrained_accuracy))\n",
        "        print(\"[Epoch %d]: Evaluation accuracy of trained nodes: %.7f\" % (e, trained_accuracy))\n",
        "        print(\"[Epoch %d]: Evaluation accuracy of test nodes: %.7f\" % (e, untrained_accuracy))\n",
        "        # print(\"Labels of trained nodes: \\n\", output[selected].max(1)[1])\n",
        "        net.train()\n",
        "        if trained_accuracy > best_pred:\n",
        "            best_pred = trained_accuracy\n",
        "            # torch.save({\n",
        "            #     'epoch': e + 1,\\\n",
        "            #     'state_dict': net.state_dict(),\\\n",
        "            #     'best_acc': trained_accuracy,\\\n",
        "            #     'optimizer' : optimizer.state_dict(),\\\n",
        "            #     'scheduler' : scheduler.state_dict(),\\\n",
        "            # }, os.path.join(\"./data/\" ,\\\n",
        "            #     \"test_model_best_%d.pth.tar\" % args.model_no))\n",
        "    \n",
        "    scheduler.step()\n",
        "    \n",
        "logger.info(\"Finished training!\")"
      ]
    },
    {
      "cell_type": "code",
      "execution_count": 144,
      "metadata": {
        "colab": {
          "base_uri": "https://localhost:8080/",
          "height": 1000
        },
        "id": "tYA7jQnDruN6",
        "outputId": "8266df41-c7cb-426f-8274-ff12043fa8b2"
      },
      "outputs": [
        {
          "data": {
            "text/plain": [
              "<matplotlib.legend.Legend at 0x7f6a223fa610>"
            ]
          },
          "execution_count": 144,
          "metadata": {},
          "output_type": "execute_result"
        },
        {
          "data": {
            "image/png": "[encoded data removed]",
            "text/plain": [
              "<Figure size 936x936 with 1 Axes>"
            ]
          },
          "metadata": {
            "needs_background": "light"
          },
          "output_type": "display_data"
        },
        {
          "data": {
            "image/png": "[encoded data removed]",
            "text/plain": [
              "<Figure size 936x936 with 1 Axes>"
            ]
          },
          "metadata": {
            "needs_background": "light"
          },
          "output_type": "display_data"
        },
        {
          "data": {
            "image/png": "[encoded data removed]",
            "text/plain": [
              "<Figure size 936x936 with 1 Axes>"
            ]
          },
          "metadata": {
            "needs_background": "light"
          },
          "output_type": "display_data"
        },
        {
          "data": {
            "image/png": "[encoded data removed]",
            "text/plain": [
              "<Figure size 936x936 with 1 Axes>"
            ]
          },
          "metadata": {
            "needs_background": "light"
          },
          "output_type": "display_data"
        }
      ],
      "source": [
        "# plot evaluation results\n",
        "\n",
        "fig = plt.figure(figsize=(13,13))\n",
        "ax = fig.add_subplot(111)\n",
        "ax.scatter([i for i in range(len(losses_per_epoch))], losses_per_epoch)\n",
        "ax.set_xlabel(\"Epoch\", fontsize=15)\n",
        "ax.set_ylabel(\"Loss\", fontsize=15)\n",
        "ax.set_title(\"Loss vs Epoch\", fontsize=20)\n",
        "\n",
        "fig = plt.figure(figsize=(13,13))\n",
        "ax = fig.add_subplot(111)\n",
        "ax.scatter(np.array(evaluation_trained)[:,0], np.array(evaluation_trained)[:,1])\n",
        "ax.set_xlabel(\"Epoch\", fontsize=15)\n",
        "ax.set_ylabel(\"Accuracy on training nodes\", fontsize=15)\n",
        "ax.set_title(\"Accuracy (training nodes) vs Epoch\", fontsize=20)\n",
        "\n",
        "fig = plt.figure(figsize=(13,13))\n",
        "ax = fig.add_subplot(111)\n",
        "ax.scatter(np.array(evaluation_untrained)[:,0], np.array(evaluation_untrained)[:,1])\n",
        "ax.set_xlabel(\"Epoch\", fontsize=15)\n",
        "ax.set_ylabel(\"Accuracy on test nodes\", fontsize=15)\n",
        "ax.set_title(\"Accuracy (test nodes) vs Epoch\", fontsize=20)\n",
        "\n",
        "fig = plt.figure(figsize=(13,13))\n",
        "ax = fig.add_subplot(111)\n",
        "ax.scatter(np.array(evaluation_trained)[:,0], np.array(evaluation_trained)[:,1], c=\"red\", marker=\"v\", \\\n",
        "            label=\"Training Nodes\")\n",
        "ax.scatter(np.array(evaluation_untrained)[:,0], np.array(evaluation_untrained)[:,1], c=\"blue\", marker=\"o\",\\\n",
        "            label=\"Test Nodes\")\n",
        "ax.set_xlabel(\"Epoch\", fontsize=15)\n",
        "ax.set_ylabel(\"Accuracy\", fontsize=15)\n",
        "ax.set_title(\"Accuracy vs Epoch\", fontsize=20)\n",
        "ax.legend(fontsize=20)"
      ]
    }
  ],
  "metadata": {
    "colab": {
      "machine_shape": "hm",
      "name": "GNN.ipynb",
      "provenance": []
    },
    "interpreter": {
      "hash": "ad60a846bd8682cc60c8fe3538588b4ea862101f4ce168e8cfc37f0bde2847f1"
    },
    "kernelspec": {
      "display_name": "Python 3.9.6 64-bit",
      "language": "python",
      "name": "python3"
    },
    "language_info": {
      "codemirror_mode": {
        "name": "ipython",
        "version": 3
      },
      "file_extension": ".py",
      "mimetype": "text/x-python",
      "name": "python",
      "nbconvert_exporter": "python",
      "pygments_lexer": "ipython3",
      "version": "3.9.6"
    },
    "orig_nbformat": 4,
    "widgets": {
      "application/vnd.jupyter.widget-state+json": {
        "1355f946d9ce495d91d77de65b1933a3": {
          "model_module": "@jupyter-widgets/base",
          "model_module_version": "1.2.0",
          "model_name": "LayoutModel",
          "state": {
            "_model_module": "@jupyter-widgets/base",
            "_model_module_version": "1.2.0",
            "_model_name": "LayoutModel",
            "_view_count": null,
            "_view_module": "@jupyter-widgets/base",
            "_view_module_version": "1.2.0",
            "_view_name": "LayoutView",
            "align_content": null,
            "align_items": null,
            "align_self": null,
            "border": null,
            "bottom": null,
            "display": null,
            "flex": null,
            "flex_flow": null,
            "grid_area": null,
            "grid_auto_columns": null,
            "grid_auto_flow": null,
            "grid_auto_rows": null,
            "grid_column": null,
            "grid_gap": null,
            "grid_row": null,
            "grid_template_areas": null,
            "grid_template_columns": null,
            "grid_template_rows": null,
            "height": null,
            "justify_content": null,
            "justify_items": null,
            "left": null,
            "margin": null,
            "max_height": null,
            "max_width": null,
            "min_height": null,
            "min_width": null,
            "object_fit": null,
            "object_position": null,
            "order": null,
            "overflow": null,
            "overflow_x": null,
            "overflow_y": null,
            "padding": null,
            "right": null,
            "top": null,
            "visibility": null,
            "width": null
          }
        },
        "1792caadd683493481e499025aaa9f23": {
          "model_module": "@jupyter-widgets/controls",
          "model_module_version": "1.5.0",
          "model_name": "HBoxModel",
          "state": {
            "_dom_classes": [],
            "_model_module": "@jupyter-widgets/controls",
            "_model_module_version": "1.5.0",
            "_model_name": "HBoxModel",
            "_view_count": null,
            "_view_module": "@jupyter-widgets/controls",
            "_view_module_version": "1.5.0",
            "_view_name": "HBoxView",
            "box_style": "",
            "children": [
              "IPY_MODEL_7baad7027cab40e797b2bd09ddbf8c79",
              "IPY_MODEL_5dc8a48c06b34925902c694da5bec58a",
              "IPY_MODEL_3b6234a7ebeb4f389741c49acc3624ea"
            ],
            "layout": "IPY_MODEL_1355f946d9ce495d91d77de65b1933a3"
          }
        },
        "298cd14f7e1f493684564d89e7f0464f": {
          "model_module": "@jupyter-widgets/controls",
          "model_module_version": "1.5.0",
          "model_name": "FloatProgressModel",
          "state": {
            "_dom_classes": [],
            "_model_module": "@jupyter-widgets/controls",
            "_model_module_version": "1.5.0",
            "_model_name": "FloatProgressModel",
            "_view_count": null,
            "_view_module": "@jupyter-widgets/controls",
            "_view_module_version": "1.5.0",
            "_view_name": "ProgressView",
            "bar_style": "success",
            "description": "",
            "description_tooltip": null,
            "layout": "IPY_MODEL_f099d63794b94a78a7c01c698d5c9dc4",
            "max": 1000,
            "min": 0,
            "orientation": "horizontal",
            "style": "IPY_MODEL_56d533c138b04b95a56ea1b9cace222b",
            "value": 1000
          }
        },
        "351ba2d7e5a84c91bf95dbdd96984488": {
          "model_module": "@jupyter-widgets/base",
          "model_module_version": "1.2.0",
          "model_name": "LayoutModel",
          "state": {
            "_model_module": "@jupyter-widgets/base",
            "_model_module_version": "1.2.0",
            "_model_name": "LayoutModel",
            "_view_count": null,
            "_view_module": "@jupyter-widgets/base",
            "_view_module_version": "1.2.0",
            "_view_name": "LayoutView",
            "align_content": null,
            "align_items": null,
            "align_self": null,
            "border": null,
            "bottom": null,
            "display": null,
            "flex": null,
            "flex_flow": null,
            "grid_area": null,
            "grid_auto_columns": null,
            "grid_auto_flow": null,
            "grid_auto_rows": null,
            "grid_column": null,
            "grid_gap": null,
            "grid_row": null,
            "grid_template_areas": null,
            "grid_template_columns": null,
            "grid_template_rows": null,
            "height": null,
            "justify_content": null,
            "justify_items": null,
            "left": null,
            "margin": null,
            "max_height": null,
            "max_width": null,
            "min_height": null,
            "min_width": null,
            "object_fit": null,
            "object_position": null,
            "order": null,
            "overflow": null,
            "overflow_x": null,
            "overflow_y": null,
            "padding": null,
            "right": null,
            "top": null,
            "visibility": null,
            "width": null
          }
        },
        "3b6234a7ebeb4f389741c49acc3624ea": {
          "model_module": "@jupyter-widgets/controls",
          "model_module_version": "1.5.0",
          "model_name": "HTMLModel",
          "state": {
            "_dom_classes": [],
            "_model_module": "@jupyter-widgets/controls",
            "_model_module_version": "1.5.0",
            "_model_name": "HTMLModel",
            "_view_count": null,
            "_view_module": "@jupyter-widgets/controls",
            "_view_module_version": "1.5.0",
            "_view_name": "HTMLView",
            "description": "",
            "description_tooltip": null,
            "layout": "IPY_MODEL_3e28091e265d451ba22b7c73c01e0802",
            "placeholder": "​",
            "style": "IPY_MODEL_67e17cf86c4b487981aac0d5655e06f8",
            "value": " 6242811/6242811 [01:04&lt;00:00, 99171.66it/s]"
          }
        },
        "3d68db9cbbd9471bb44bcf8a4f2dbaec": {
          "model_module": "@jupyter-widgets/controls",
          "model_module_version": "1.5.0",
          "model_name": "FloatProgressModel",
          "state": {
            "_dom_classes": [],
            "_model_module": "@jupyter-widgets/controls",
            "_model_module_version": "1.5.0",
            "_model_name": "FloatProgressModel",
            "_view_count": null,
            "_view_module": "@jupyter-widgets/controls",
            "_view_module_version": "1.5.0",
            "_view_name": "ProgressView",
            "bar_style": "success",
            "description": "",
            "description_tooltip": null,
            "layout": "IPY_MODEL_ae29c829b1ac4abe82d410949afaf359",
            "max": 1000,
            "min": 0,
            "orientation": "horizontal",
            "style": "IPY_MODEL_900fb000e5f2497db30f20426e14ff8d",
            "value": 1000
          }
        },
        "3d86d11926bc445cab2955e6d3d7084a": {
          "model_module": "@jupyter-widgets/controls",
          "model_module_version": "1.5.0",
          "model_name": "DescriptionStyleModel",
          "state": {
            "_model_module": "@jupyter-widgets/controls",
            "_model_module_version": "1.5.0",
            "_model_name": "DescriptionStyleModel",
            "_view_count": null,
            "_view_module": "@jupyter-widgets/base",
            "_view_module_version": "1.2.0",
            "_view_name": "StyleView",
            "description_width": ""
          }
        },
        "3e28091e265d451ba22b7c73c01e0802": {
          "model_module": "@jupyter-widgets/base",
          "model_module_version": "1.2.0",
          "model_name": "LayoutModel",
          "state": {
            "_model_module": "@jupyter-widgets/base",
            "_model_module_version": "1.2.0",
            "_model_name": "LayoutModel",
            "_view_count": null,
            "_view_module": "@jupyter-widgets/base",
            "_view_module_version": "1.2.0",
            "_view_name": "LayoutView",
            "align_content": null,
            "align_items": null,
            "align_self": null,
            "border": null,
            "bottom": null,
            "display": null,
            "flex": null,
            "flex_flow": null,
            "grid_area": null,
            "grid_auto_columns": null,
            "grid_auto_flow": null,
            "grid_auto_rows": null,
            "grid_column": null,
            "grid_gap": null,
            "grid_row": null,
            "grid_template_areas": null,
            "grid_template_columns": null,
            "grid_template_rows": null,
            "height": null,
            "justify_content": null,
            "justify_items": null,
            "left": null,
            "margin": null,
            "max_height": null,
            "max_width": null,
            "min_height": null,
            "min_width": null,
            "object_fit": null,
            "object_position": null,
            "order": null,
            "overflow": null,
            "overflow_x": null,
            "overflow_y": null,
            "padding": null,
            "right": null,
            "top": null,
            "visibility": null,
            "width": null
          }
        },
        "47301be7e959427183b2525b38cee4a3": {
          "model_module": "@jupyter-widgets/controls",
          "model_module_version": "1.5.0",
          "model_name": "ProgressStyleModel",
          "state": {
            "_model_module": "@jupyter-widgets/controls",
            "_model_module_version": "1.5.0",
            "_model_name": "ProgressStyleModel",
            "_view_count": null,
            "_view_module": "@jupyter-widgets/base",
            "_view_module_version": "1.2.0",
            "_view_name": "StyleView",
            "bar_color": null,
            "description_width": ""
          }
        },
        "4d2ebdacbfc546749f13f332f02b26b0": {
          "model_module": "@jupyter-widgets/base",
          "model_module_version": "1.2.0",
          "model_name": "LayoutModel",
          "state": {
            "_model_module": "@jupyter-widgets/base",
            "_model_module_version": "1.2.0",
            "_model_name": "LayoutModel",
            "_view_count": null,
            "_view_module": "@jupyter-widgets/base",
            "_view_module_version": "1.2.0",
            "_view_name": "LayoutView",
            "align_content": null,
            "align_items": null,
            "align_self": null,
            "border": null,
            "bottom": null,
            "display": null,
            "flex": null,
            "flex_flow": null,
            "grid_area": null,
            "grid_auto_columns": null,
            "grid_auto_flow": null,
            "grid_auto_rows": null,
            "grid_column": null,
            "grid_gap": null,
            "grid_row": null,
            "grid_template_areas": null,
            "grid_template_columns": null,
            "grid_template_rows": null,
            "height": null,
            "justify_content": null,
            "justify_items": null,
            "left": null,
            "margin": null,
            "max_height": null,
            "max_width": null,
            "min_height": null,
            "min_width": null,
            "object_fit": null,
            "object_position": null,
            "order": null,
            "overflow": null,
            "overflow_x": null,
            "overflow_y": null,
            "padding": null,
            "right": null,
            "top": null,
            "visibility": null,
            "width": null
          }
        },
        "4db543ce6365492c92532cd38bc718e8": {
          "model_module": "@jupyter-widgets/controls",
          "model_module_version": "1.5.0",
          "model_name": "HBoxModel",
          "state": {
            "_dom_classes": [],
            "_model_module": "@jupyter-widgets/controls",
            "_model_module_version": "1.5.0",
            "_model_name": "HBoxModel",
            "_view_count": null,
            "_view_module": "@jupyter-widgets/controls",
            "_view_module_version": "1.5.0",
            "_view_name": "HBoxView",
            "box_style": "",
            "children": [
              "IPY_MODEL_8475bd0880504a538f7b4aed1e3145f7",
              "IPY_MODEL_298cd14f7e1f493684564d89e7f0464f",
              "IPY_MODEL_c13cd4c6bb8b4bea96e729d136967edf"
            ],
            "layout": "IPY_MODEL_351ba2d7e5a84c91bf95dbdd96984488"
          }
        },
        "54d5644aaeab47f58747751d7a47360e": {
          "model_module": "@jupyter-widgets/base",
          "model_module_version": "1.2.0",
          "model_name": "LayoutModel",
          "state": {
            "_model_module": "@jupyter-widgets/base",
            "_model_module_version": "1.2.0",
            "_model_name": "LayoutModel",
            "_view_count": null,
            "_view_module": "@jupyter-widgets/base",
            "_view_module_version": "1.2.0",
            "_view_name": "LayoutView",
            "align_content": null,
            "align_items": null,
            "align_self": null,
            "border": null,
            "bottom": null,
            "display": null,
            "flex": null,
            "flex_flow": null,
            "grid_area": null,
            "grid_auto_columns": null,
            "grid_auto_flow": null,
            "grid_auto_rows": null,
            "grid_column": null,
            "grid_gap": null,
            "grid_row": null,
            "grid_template_areas": null,
            "grid_template_columns": null,
            "grid_template_rows": null,
            "height": null,
            "justify_content": null,
            "justify_items": null,
            "left": null,
            "margin": null,
            "max_height": null,
            "max_width": null,
            "min_height": null,
            "min_width": null,
            "object_fit": null,
            "object_position": null,
            "order": null,
            "overflow": null,
            "overflow_x": null,
            "overflow_y": null,
            "padding": null,
            "right": null,
            "top": null,
            "visibility": null,
            "width": null
          }
        },
        "56d533c138b04b95a56ea1b9cace222b": {
          "model_module": "@jupyter-widgets/controls",
          "model_module_version": "1.5.0",
          "model_name": "ProgressStyleModel",
          "state": {
            "_model_module": "@jupyter-widgets/controls",
            "_model_module_version": "1.5.0",
            "_model_name": "ProgressStyleModel",
            "_view_count": null,
            "_view_module": "@jupyter-widgets/base",
            "_view_module_version": "1.2.0",
            "_view_name": "StyleView",
            "bar_color": null,
            "description_width": ""
          }
        },
        "5dc8a48c06b34925902c694da5bec58a": {
          "model_module": "@jupyter-widgets/controls",
          "model_module_version": "1.5.0",
          "model_name": "FloatProgressModel",
          "state": {
            "_dom_classes": [],
            "_model_module": "@jupyter-widgets/controls",
            "_model_module_version": "1.5.0",
            "_model_name": "FloatProgressModel",
            "_view_count": null,
            "_view_module": "@jupyter-widgets/controls",
            "_view_module_version": "1.5.0",
            "_view_name": "ProgressView",
            "bar_style": "success",
            "description": "",
            "description_tooltip": null,
            "layout": "IPY_MODEL_4d2ebdacbfc546749f13f332f02b26b0",
            "max": 6242811,
            "min": 0,
            "orientation": "horizontal",
            "style": "IPY_MODEL_47301be7e959427183b2525b38cee4a3",
            "value": 6242811
          }
        },
        "67e17cf86c4b487981aac0d5655e06f8": {
          "model_module": "@jupyter-widgets/controls",
          "model_module_version": "1.5.0",
          "model_name": "DescriptionStyleModel",
          "state": {
            "_model_module": "@jupyter-widgets/controls",
            "_model_module_version": "1.5.0",
            "_model_name": "DescriptionStyleModel",
            "_view_count": null,
            "_view_module": "@jupyter-widgets/base",
            "_view_module_version": "1.2.0",
            "_view_name": "StyleView",
            "description_width": ""
          }
        },
        "6bb2316fc9a74c89acd92422b23c14fb": {
          "model_module": "@jupyter-widgets/controls",
          "model_module_version": "1.5.0",
          "model_name": "HBoxModel",
          "state": {
            "_dom_classes": [],
            "_model_module": "@jupyter-widgets/controls",
            "_model_module_version": "1.5.0",
            "_model_name": "HBoxModel",
            "_view_count": null,
            "_view_module": "@jupyter-widgets/controls",
            "_view_module_version": "1.5.0",
            "_view_name": "HBoxView",
            "box_style": "",
            "children": [
              "IPY_MODEL_f06e78b0b5f245e5875eefd18da56f45",
              "IPY_MODEL_3d68db9cbbd9471bb44bcf8a4f2dbaec",
              "IPY_MODEL_c4ed139f0859489ba888a3a5a64f57e0"
            ],
            "layout": "IPY_MODEL_9c55eb5f0ba94c45b5a58e041814a7ff"
          }
        },
        "7aef45c7f52749ce81cb7a1ad9da334b": {
          "model_module": "@jupyter-widgets/base",
          "model_module_version": "1.2.0",
          "model_name": "LayoutModel",
          "state": {
            "_model_module": "@jupyter-widgets/base",
            "_model_module_version": "1.2.0",
            "_model_name": "LayoutModel",
            "_view_count": null,
            "_view_module": "@jupyter-widgets/base",
            "_view_module_version": "1.2.0",
            "_view_name": "LayoutView",
            "align_content": null,
            "align_items": null,
            "align_self": null,
            "border": null,
            "bottom": null,
            "display": null,
            "flex": null,
            "flex_flow": null,
            "grid_area": null,
            "grid_auto_columns": null,
            "grid_auto_flow": null,
            "grid_auto_rows": null,
            "grid_column": null,
            "grid_gap": null,
            "grid_row": null,
            "grid_template_areas": null,
            "grid_template_columns": null,
            "grid_template_rows": null,
            "height": null,
            "justify_content": null,
            "justify_items": null,
            "left": null,
            "margin": null,
            "max_height": null,
            "max_width": null,
            "min_height": null,
            "min_width": null,
            "object_fit": null,
            "object_position": null,
            "order": null,
            "overflow": null,
            "overflow_x": null,
            "overflow_y": null,
            "padding": null,
            "right": null,
            "top": null,
            "visibility": null,
            "width": null
          }
        },
        "7baad7027cab40e797b2bd09ddbf8c79": {
          "model_module": "@jupyter-widgets/controls",
          "model_module_version": "1.5.0",
          "model_name": "HTMLModel",
          "state": {
            "_dom_classes": [],
            "_model_module": "@jupyter-widgets/controls",
            "_model_module_version": "1.5.0",
            "_model_name": "HTMLModel",
            "_view_count": null,
            "_view_module": "@jupyter-widgets/controls",
            "_view_module_version": "1.5.0",
            "_view_name": "HTMLView",
            "description": "",
            "description_tooltip": null,
            "layout": "IPY_MODEL_c5cb024148ad406fa13ae644de711e1c",
            "placeholder": "​",
            "style": "IPY_MODEL_bf5ddee6229f47aeaa37ebf1e59d24ce",
            "value": "100%"
          }
        },
        "8475bd0880504a538f7b4aed1e3145f7": {
          "model_module": "@jupyter-widgets/controls",
          "model_module_version": "1.5.0",
          "model_name": "HTMLModel",
          "state": {
            "_dom_classes": [],
            "_model_module": "@jupyter-widgets/controls",
            "_model_module_version": "1.5.0",
            "_model_name": "HTMLModel",
            "_view_count": null,
            "_view_module": "@jupyter-widgets/controls",
            "_view_module_version": "1.5.0",
            "_view_name": "HTMLView",
            "description": "",
            "description_tooltip": null,
            "layout": "IPY_MODEL_ffa232996dfa4469803e4b0a18a59149",
            "placeholder": "​",
            "style": "IPY_MODEL_8c5cab06954b4ebeab5a00836b22cc24",
            "value": "100%"
          }
        },
        "8c5cab06954b4ebeab5a00836b22cc24": {
          "model_module": "@jupyter-widgets/controls",
          "model_module_version": "1.5.0",
          "model_name": "DescriptionStyleModel",
          "state": {
            "_model_module": "@jupyter-widgets/controls",
            "_model_module_version": "1.5.0",
            "_model_name": "DescriptionStyleModel",
            "_view_count": null,
            "_view_module": "@jupyter-widgets/base",
            "_view_module_version": "1.2.0",
            "_view_name": "StyleView",
            "description_width": ""
          }
        },
        "900fb000e5f2497db30f20426e14ff8d": {
          "model_module": "@jupyter-widgets/controls",
          "model_module_version": "1.5.0",
          "model_name": "ProgressStyleModel",
          "state": {
            "_model_module": "@jupyter-widgets/controls",
            "_model_module_version": "1.5.0",
            "_model_name": "ProgressStyleModel",
            "_view_count": null,
            "_view_module": "@jupyter-widgets/base",
            "_view_module_version": "1.2.0",
            "_view_name": "StyleView",
            "bar_color": null,
            "description_width": ""
          }
        },
        "92aed9c4f90d4c17bbaf40fe332469ae": {
          "model_module": "@jupyter-widgets/controls",
          "model_module_version": "1.5.0",
          "model_name": "DescriptionStyleModel",
          "state": {
            "_model_module": "@jupyter-widgets/controls",
            "_model_module_version": "1.5.0",
            "_model_name": "DescriptionStyleModel",
            "_view_count": null,
            "_view_module": "@jupyter-widgets/base",
            "_view_module_version": "1.2.0",
            "_view_name": "StyleView",
            "description_width": ""
          }
        },
        "9c55eb5f0ba94c45b5a58e041814a7ff": {
          "model_module": "@jupyter-widgets/base",
          "model_module_version": "1.2.0",
          "model_name": "LayoutModel",
          "state": {
            "_model_module": "@jupyter-widgets/base",
            "_model_module_version": "1.2.0",
            "_model_name": "LayoutModel",
            "_view_count": null,
            "_view_module": "@jupyter-widgets/base",
            "_view_module_version": "1.2.0",
            "_view_name": "LayoutView",
            "align_content": null,
            "align_items": null,
            "align_self": null,
            "border": null,
            "bottom": null,
            "display": null,
            "flex": null,
            "flex_flow": null,
            "grid_area": null,
            "grid_auto_columns": null,
            "grid_auto_flow": null,
            "grid_auto_rows": null,
            "grid_column": null,
            "grid_gap": null,
            "grid_row": null,
            "grid_template_areas": null,
            "grid_template_columns": null,
            "grid_template_rows": null,
            "height": null,
            "justify_content": null,
            "justify_items": null,
            "left": null,
            "margin": null,
            "max_height": null,
            "max_width": null,
            "min_height": null,
            "min_width": null,
            "object_fit": null,
            "object_position": null,
            "order": null,
            "overflow": null,
            "overflow_x": null,
            "overflow_y": null,
            "padding": null,
            "right": null,
            "top": null,
            "visibility": null,
            "width": null
          }
        },
        "a601277be7df470f92ffea375b48bff6": {
          "model_module": "@jupyter-widgets/base",
          "model_module_version": "1.2.0",
          "model_name": "LayoutModel",
          "state": {
            "_model_module": "@jupyter-widgets/base",
            "_model_module_version": "1.2.0",
            "_model_name": "LayoutModel",
            "_view_count": null,
            "_view_module": "@jupyter-widgets/base",
            "_view_module_version": "1.2.0",
            "_view_name": "LayoutView",
            "align_content": null,
            "align_items": null,
            "align_self": null,
            "border": null,
            "bottom": null,
            "display": null,
            "flex": null,
            "flex_flow": null,
            "grid_area": null,
            "grid_auto_columns": null,
            "grid_auto_flow": null,
            "grid_auto_rows": null,
            "grid_column": null,
            "grid_gap": null,
            "grid_row": null,
            "grid_template_areas": null,
            "grid_template_columns": null,
            "grid_template_rows": null,
            "height": null,
            "justify_content": null,
            "justify_items": null,
            "left": null,
            "margin": null,
            "max_height": null,
            "max_width": null,
            "min_height": null,
            "min_width": null,
            "object_fit": null,
            "object_position": null,
            "order": null,
            "overflow": null,
            "overflow_x": null,
            "overflow_y": null,
            "padding": null,
            "right": null,
            "top": null,
            "visibility": null,
            "width": null
          }
        },
        "ae29c829b1ac4abe82d410949afaf359": {
          "model_module": "@jupyter-widgets/base",
          "model_module_version": "1.2.0",
          "model_name": "LayoutModel",
          "state": {
            "_model_module": "@jupyter-widgets/base",
            "_model_module_version": "1.2.0",
            "_model_name": "LayoutModel",
            "_view_count": null,
            "_view_module": "@jupyter-widgets/base",
            "_view_module_version": "1.2.0",
            "_view_name": "LayoutView",
            "align_content": null,
            "align_items": null,
            "align_self": null,
            "border": null,
            "bottom": null,
            "display": null,
            "flex": null,
            "flex_flow": null,
            "grid_area": null,
            "grid_auto_columns": null,
            "grid_auto_flow": null,
            "grid_auto_rows": null,
            "grid_column": null,
            "grid_gap": null,
            "grid_row": null,
            "grid_template_areas": null,
            "grid_template_columns": null,
            "grid_template_rows": null,
            "height": null,
            "justify_content": null,
            "justify_items": null,
            "left": null,
            "margin": null,
            "max_height": null,
            "max_width": null,
            "min_height": null,
            "min_width": null,
            "object_fit": null,
            "object_position": null,
            "order": null,
            "overflow": null,
            "overflow_x": null,
            "overflow_y": null,
            "padding": null,
            "right": null,
            "top": null,
            "visibility": null,
            "width": null
          }
        },
        "bf5ddee6229f47aeaa37ebf1e59d24ce": {
          "model_module": "@jupyter-widgets/controls",
          "model_module_version": "1.5.0",
          "model_name": "DescriptionStyleModel",
          "state": {
            "_model_module": "@jupyter-widgets/controls",
            "_model_module_version": "1.5.0",
            "_model_name": "DescriptionStyleModel",
            "_view_count": null,
            "_view_module": "@jupyter-widgets/base",
            "_view_module_version": "1.2.0",
            "_view_name": "StyleView",
            "description_width": ""
          }
        },
        "c13cd4c6bb8b4bea96e729d136967edf": {
          "model_module": "@jupyter-widgets/controls",
          "model_module_version": "1.5.0",
          "model_name": "HTMLModel",
          "state": {
            "_dom_classes": [],
            "_model_module": "@jupyter-widgets/controls",
            "_model_module_version": "1.5.0",
            "_model_name": "HTMLModel",
            "_view_count": null,
            "_view_module": "@jupyter-widgets/controls",
            "_view_module_version": "1.5.0",
            "_view_name": "HTMLView",
            "description": "",
            "description_tooltip": null,
            "layout": "IPY_MODEL_a601277be7df470f92ffea375b48bff6",
            "placeholder": "​",
            "style": "IPY_MODEL_3d86d11926bc445cab2955e6d3d7084a",
            "value": " 1000/1000 [00:00&lt;00:00, 5554.56it/s]"
          }
        },
        "c4ed139f0859489ba888a3a5a64f57e0": {
          "model_module": "@jupyter-widgets/controls",
          "model_module_version": "1.5.0",
          "model_name": "HTMLModel",
          "state": {
            "_dom_classes": [],
            "_model_module": "@jupyter-widgets/controls",
            "_model_module_version": "1.5.0",
            "_model_name": "HTMLModel",
            "_view_count": null,
            "_view_module": "@jupyter-widgets/controls",
            "_view_module_version": "1.5.0",
            "_view_name": "HTMLView",
            "description": "",
            "description_tooltip": null,
            "layout": "IPY_MODEL_54d5644aaeab47f58747751d7a47360e",
            "placeholder": "​",
            "style": "IPY_MODEL_cb81dbd0e32149b49fad47efc427db21",
            "value": " 1000/1000 [00:00&lt;00:00, 8455.98it/s]"
          }
        },
        "c5cb024148ad406fa13ae644de711e1c": {
          "model_module": "@jupyter-widgets/base",
          "model_module_version": "1.2.0",
          "model_name": "LayoutModel",
          "state": {
            "_model_module": "@jupyter-widgets/base",
            "_model_module_version": "1.2.0",
            "_model_name": "LayoutModel",
            "_view_count": null,
            "_view_module": "@jupyter-widgets/base",
            "_view_module_version": "1.2.0",
            "_view_name": "LayoutView",
            "align_content": null,
            "align_items": null,
            "align_self": null,
            "border": null,
            "bottom": null,
            "display": null,
            "flex": null,
            "flex_flow": null,
            "grid_area": null,
            "grid_auto_columns": null,
            "grid_auto_flow": null,
            "grid_auto_rows": null,
            "grid_column": null,
            "grid_gap": null,
            "grid_row": null,
            "grid_template_areas": null,
            "grid_template_columns": null,
            "grid_template_rows": null,
            "height": null,
            "justify_content": null,
            "justify_items": null,
            "left": null,
            "margin": null,
            "max_height": null,
            "max_width": null,
            "min_height": null,
            "min_width": null,
            "object_fit": null,
            "object_position": null,
            "order": null,
            "overflow": null,
            "overflow_x": null,
            "overflow_y": null,
            "padding": null,
            "right": null,
            "top": null,
            "visibility": null,
            "width": null
          }
        },
        "cb81dbd0e32149b49fad47efc427db21": {
          "model_module": "@jupyter-widgets/controls",
          "model_module_version": "1.5.0",
          "model_name": "DescriptionStyleModel",
          "state": {
            "_model_module": "@jupyter-widgets/controls",
            "_model_module_version": "1.5.0",
            "_model_name": "DescriptionStyleModel",
            "_view_count": null,
            "_view_module": "@jupyter-widgets/base",
            "_view_module_version": "1.2.0",
            "_view_name": "StyleView",
            "description_width": ""
          }
        },
        "f06e78b0b5f245e5875eefd18da56f45": {
          "model_module": "@jupyter-widgets/controls",
          "model_module_version": "1.5.0",
          "model_name": "HTMLModel",
          "state": {
            "_dom_classes": [],
            "_model_module": "@jupyter-widgets/controls",
            "_model_module_version": "1.5.0",
            "_model_name": "HTMLModel",
            "_view_count": null,
            "_view_module": "@jupyter-widgets/controls",
            "_view_module_version": "1.5.0",
            "_view_name": "HTMLView",
            "description": "",
            "description_tooltip": null,
            "layout": "IPY_MODEL_7aef45c7f52749ce81cb7a1ad9da334b",
            "placeholder": "​",
            "style": "IPY_MODEL_92aed9c4f90d4c17bbaf40fe332469ae",
            "value": "100%"
          }
        },
        "f099d63794b94a78a7c01c698d5c9dc4": {
          "model_module": "@jupyter-widgets/base",
          "model_module_version": "1.2.0",
          "model_name": "LayoutModel",
          "state": {
            "_model_module": "@jupyter-widgets/base",
            "_model_module_version": "1.2.0",
            "_model_name": "LayoutModel",
            "_view_count": null,
            "_view_module": "@jupyter-widgets/base",
            "_view_module_version": "1.2.0",
            "_view_name": "LayoutView",
            "align_content": null,
            "align_items": null,
            "align_self": null,
            "border": null,
            "bottom": null,
            "display": null,
            "flex": null,
            "flex_flow": null,
            "grid_area": null,
            "grid_auto_columns": null,
            "grid_auto_flow": null,
            "grid_auto_rows": null,
            "grid_column": null,
            "grid_gap": null,
            "grid_row": null,
            "grid_template_areas": null,
            "grid_template_columns": null,
            "grid_template_rows": null,
            "height": null,
            "justify_content": null,
            "justify_items": null,
            "left": null,
            "margin": null,
            "max_height": null,
            "max_width": null,
            "min_height": null,
            "min_width": null,
            "object_fit": null,
            "object_position": null,
            "order": null,
            "overflow": null,
            "overflow_x": null,
            "overflow_y": null,
            "padding": null,
            "right": null,
            "top": null,
            "visibility": null,
            "width": null
          }
        },
        "ffa232996dfa4469803e4b0a18a59149": {
          "model_module": "@jupyter-widgets/base",
          "model_module_version": "1.2.0",
          "model_name": "LayoutModel",
          "state": {
            "_model_module": "@jupyter-widgets/base",
            "_model_module_version": "1.2.0",
            "_model_name": "LayoutModel",
            "_view_count": null,
            "_view_module": "@jupyter-widgets/base",
            "_view_module_version": "1.2.0",
            "_view_name": "LayoutView",
            "align_content": null,
            "align_items": null,
            "align_self": null,
            "border": null,
            "bottom": null,
            "display": null,
            "flex": null,
            "flex_flow": null,
            "grid_area": null,
            "grid_auto_columns": null,
            "grid_auto_flow": null,
            "grid_auto_rows": null,
            "grid_column": null,
            "grid_gap": null,
            "grid_row": null,
            "grid_template_areas": null,
            "grid_template_columns": null,
            "grid_template_rows": null,
            "height": null,
            "justify_content": null,
            "justify_items": null,
            "left": null,
            "margin": null,
            "max_height": null,
            "max_width": null,
            "min_height": null,
            "min_width": null,
            "object_fit": null,
            "object_position": null,
            "order": null,
            "overflow": null,
            "overflow_x": null,
            "overflow_y": null,
            "padding": null,
            "right": null,
            "top": null,
            "visibility": null,
            "width": null
          }
        }
      }
    }
  },
  "nbformat": 4,
  "nbformat_minor": 0
}
